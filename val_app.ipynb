{
 "cells": [
  {
   "cell_type": "code",
   "execution_count": null,
   "id": "87e1ee02-6480-4736-bff9-e731daebca51",
   "metadata": {
    "tags": []
   },
   "outputs": [],
   "source": [
    "import pandas as pd\n",
    "from rich.console import Console\n",
    "from rich.table import Table\n",
    "from rich.style import Style\n",
    "from PIL import Image\n",
    "import os"
   ]
  },
  {
   "cell_type": "code",
   "execution_count": null,
   "id": "62dd6728-f48c-45ce-b5b4-ff6917737e8f",
   "metadata": {
    "tags": []
   },
   "outputs": [],
   "source": [
    "console = Console()\n",
    "\n",
    "def calculate_score(df_val, df_bs, df_is, df_cf, df_st):\n",
    "    score = 0\n",
    "    scores_breakdown = []\n",
    "    \n",
    "    current_price = pd.to_numeric(df_val.iloc[10, 1].replace('%', ''), errors='coerce')\n",
    "    buy_price = pd.to_numeric(df_val.iloc[13, 1].replace('%', ''), errors='coerce')\n",
    "    tl_ta = pd.to_numeric(df_bs.iloc[10, 1].replace('%', ''), errors='coerce')\n",
    "    nd_te = pd.to_numeric(df_bs.iloc[11, 1].replace('%', ''), errors='coerce')\n",
    "    cr_cl = pd.to_numeric(df_bs.iloc[12, 1].replace('%', ''), errors='coerce')\n",
    "    op_inc_20 = pd.to_numeric(df_is.iloc[2, 1].replace('%', ''), errors='coerce')\n",
    "    op_inc_ttm = pd.to_numeric(df_is.iloc[2, 5].replace('%', ''), errors='coerce')\n",
    "    net_inc_20 = pd.to_numeric(df_is.iloc[5, 1].replace('%', ''), errors='coerce')\n",
    "    net_inc_ttm = pd.to_numeric(df_is.iloc[5, 5].replace('%', ''), errors='coerce')\n",
    "    capex_20 = pd.to_numeric(df_cf.iloc[3, 1].replace('%', ''), errors='coerce')\n",
    "    capex_ttm = pd.to_numeric(df_cf.iloc[3, 5].replace('%', ''), errors='coerce')\n",
    "    fcf_20 = pd.to_numeric(df_cf.iloc[4, 1].replace('%', ''), errors='coerce')\n",
    "    fcf_ttm = pd.to_numeric(df_cf.iloc[4, 5].replace('%', ''), errors='coerce')\n",
    "    spread_20 = pd.to_numeric(df_st.iloc[3, 1].replace('%', ''), errors='coerce')\n",
    "    spread_ttm = pd.to_numeric(df_st.iloc[3, 5].replace('%', ''), errors='coerce')\n",
    "    \n",
    "    def safe_value(val, default=0):\n",
    "        return default if pd.isna(val) else val\n",
    "\n",
    "    tl_ta = safe_value(tl_ta)\n",
    "    nd_te = safe_value(nd_te)\n",
    "    cr_cl = safe_value(cr_cl)\n",
    "    op_inc_20 = safe_value(op_inc_20)\n",
    "    op_inc_ttm = safe_value(op_inc_ttm)\n",
    "    net_inc_20 = safe_value(net_inc_20)\n",
    "    net_inc_ttm = safe_value(net_inc_ttm)\n",
    "    capex_20 = safe_value(capex_20)\n",
    "    capex_ttm = safe_value(capex_ttm)\n",
    "    fcf_20 = safe_value(fcf_20)\n",
    "    fcf_ttm = safe_value(fcf_ttm)\n",
    "    spread_20 = safe_value(spread_20)\n",
    "    spread_ttm = safe_value(spread_ttm)\n",
    "\n",
    "    def add_criteria(description, condition_score):\n",
    "        scores_breakdown.append([description, condition_score])\n",
    "        return condition_score\n",
    "\n",
    "    score += add_criteria(\"Price Valuation\", -100 if current_price > buy_price else 10)\n",
    "    score += add_criteria(\"Debt-to-Assets\", 10 if tl_ta < 70 else 0)\n",
    "    score += add_criteria(\"Net Debt\", 10 if nd_te < 100 else 0)\n",
    "    score += add_criteria(\"Current Ratio\", 10 if cr_cl > 100 else 0)\n",
    "\n",
    "    criteria_sum = (int(tl_ta < 70) * 10) + (int(nd_te < 100) * 10) + (int(cr_cl > 100) * 10)\n",
    "    score += add_criteria(\"Bankruptcy Chance\", -50 if criteria_sum < 20 else 0)\n",
    "    score += add_criteria(\"Liquidity\", +20 if criteria_sum == 30 else 0)\n",
    "\n",
    "    score += add_criteria(\"Operating Income Expansion\", 10 if op_inc_ttm > op_inc_20 else -10)\n",
    "    score += add_criteria(\"Operating Income TTM\", -10 if op_inc_ttm < 0 else 2.5)\n",
    "    score += add_criteria(\"Net Income Expansion\", 10 if net_inc_ttm > net_inc_20 else -10)\n",
    "    score += add_criteria(\"Net Income TTM\", -10 if net_inc_ttm < 0 else 2.5)\n",
    "    score += add_criteria(\"CapEx Expansion\", 10 if capex_ttm < capex_20 else -10)\n",
    "    score += add_criteria(\"CapEx\", -10 if capex_ttm > 100 else 2.5)\n",
    "    score += add_criteria(\"Free Cash Expansion\", 10 if fcf_ttm > fcf_20 else -10)\n",
    "    score += add_criteria(\"Free Cash Flow TTM\", -10 if fcf_ttm < 0 else 2.5)\n",
    "    score += add_criteria(\"Economic Spread Expansion\", 10 if spread_ttm > spread_20 else -10)\n",
    "    score += add_criteria(\"Economic Spread TTM\", -10 if spread_ttm < 0 else 2.5)\n",
    "\n",
    "    return score, scores_breakdown"
   ]
  },
  {
   "cell_type": "code",
   "execution_count": null,
   "id": "bf1951bc-db99-41f6-b478-907b861d87f1",
   "metadata": {
    "tags": []
   },
   "outputs": [],
   "source": [
    "# Replace with your own PATH location\n",
    "df_val = pd.read_csv('/YOUR_PATH/PocketAnalyst/Toolkit/Valuation-Grahams Formula.csv', header=None)\n",
    "df_bs = pd.read_csv('/YOUR_PATH/PocketAnalyst/Toolkit/Valuation-Consolidated Balance Sheet.csv', header=None)\n",
    "df_is = pd.read_csv('/YOUR_PATH/PocketAnalyst/Toolkit/Valuation-Consolidated Income Statement (USD, millions).csv', header=None)\n",
    "df_cf = pd.read_csv('/YOUR_PATH/PocketAnalyst/Toolkit/Valuation-Consolidated Cash Flow Statement (USD, millions).csv', header=None)\n",
    "df_st = pd.read_csv('/YOUR_PATH/PocketAnalyst/Toolkit/Valuation-Economic Profit Spread (Trailing).csv', header=None)"
   ]
  },
  {
   "cell_type": "code",
   "execution_count": null,
   "id": "87fe63b9-dd24-4a92-98ee-89390ba4ee50",
   "metadata": {
    "tags": []
   },
   "outputs": [],
   "source": [
    "total_score, breakdown = calculate_score(df_val, df_bs, df_is, df_cf, df_st)"
   ]
  },
  {
   "cell_type": "code",
   "execution_count": null,
   "id": "38db24ba-4545-4e04-87b7-ad8fc19bfde2",
   "metadata": {
    "tags": []
   },
   "outputs": [],
   "source": [
    "table = Table(title=\"Score Breakdown\", title_style=Style(color=\"cyan\", bold=True))\n",
    "\n",
    "table.add_column(\"Criteria\", style=\"bold cyan\")\n",
    "table.add_column(\"Score\", justify=\"center\", style=\"bold magenta\")\n",
    "\n",
    "for description, score in breakdown:\n",
    "    color = \"green\" if score > 0 else \"red\" if score < 0 else \"white\"\n",
    "    table.add_row(description, f\"[{color}]{score}[/{color}]\")\n",
    "    \n",
    "table.add_row(\"[bold yellow]Total Score[/bold yellow]\", f\"[bold blue]{total_score}[/bold blue]\")\n",
    "\n",
    "console.print(table)"
   ]
  },
  {
   "cell_type": "code",
   "execution_count": null,
   "id": "e100c268-6598-4359-9e08-6fbe0db2b033",
   "metadata": {
    "tags": []
   },
   "outputs": [],
   "source": [
    "from reportlab.lib.pagesizes import letter\n",
    "from reportlab.lib import colors\n",
    "from reportlab.pdfgen import canvas\n",
    "from reportlab.lib.styles import getSampleStyleSheet, ParagraphStyle\n",
    "from reportlab.platypus import SimpleDocTemplate, Table, TableStyle\n",
    "\n",
    "if total_score < 0:\n",
    "    total_score_color = colors.red\n",
    "elif 0 <= total_score <= 75:\n",
    "    total_score_color = colors.yellow\n",
    "else:\n",
    "    total_score_color = colors.green\n",
    "\n",
    "table_data = [[\"Criteria\", \"Score\"]]\n",
    "for description, score in breakdown:\n",
    "    table_data.append([description, score])\n",
    "table_data.append([\"Total Score\", total_score])\n",
    "\n",
    "# Replace with your own PATH location\n",
    "pdf_filename = r\"/YOUR_PATH/PocketAnalyst/score_breakdown.pdf\"\n",
    "document = SimpleDocTemplate(pdf_filename, pagesize=letter)\n",
    "table = Table(table_data)\n",
    "\n",
    "style = TableStyle([\n",
    "    ('TEXTCOLOR', (0, 0), (-1, 0), colors.whitesmoke),  # White text for header\n",
    "    ('ALIGN', (0, 0), (-1, -1), 'CENTER'),  # Center-align for the entire table (but left-align the first column)\n",
    "    ('BACKGROUND', (0, 0), (-1, 0), colors.darkblue),  # Dark blue background for header\n",
    "    ('BACKGROUND', (0, 1), (-1, -1), colors.whitesmoke),  # Light grey background for rows\n",
    "    ('GRID', (0, 0), (-1, -1), 1, colors.black),  # Thicker grid lines\n",
    "    ('FONTNAME', (0, 0), (-1, 0), 'Helvetica-Bold'),  # Bold font for the header\n",
    "    ('FONTNAME', (0, 1), (-1, -1), 'Helvetica'),  # Regular font for the table data\n",
    "    ('FONTSIZE', (0, 0), (-1, 0), 12),  # Larger font for header\n",
    "    ('FONTSIZE', (0, 1), (-1, -1), 10),  # Regular font size for table data\n",
    "    ('BOTTOMPADDING', (0, 0), (-1, 0), 12),  # Padding for the header\n",
    "    ('TOPPADDING', (0, 1), (-1, -1), 8),  # Padding for the data rows\n",
    "    ('ALIGN', (0, 1), (-1, -1), 'LEFT'),  # Left-align the first column (Criteria)\n",
    "    ('ALIGN', (1, 1), (-1, -1), 'CENTER'),  # Center-align the scores (second column)\n",
    "    # Total Score styling\n",
    "    ('BACKGROUND', (-1, -1), (-1, -1), total_score_color),  # Background color for total score\n",
    "    ('TEXTCOLOR', (-1, -1), (-1, -1), colors.white),  # White text for total score\n",
    "    ('FONTNAME', (-1, -1), (-1, -1), 'Helvetica-Bold'),  # Bold font for total score\n",
    "    ('FONTSIZE', (-1, -1), (-1, -1), 14),  # Larger font size for total score\n",
    "    ('ALIGN', (-1, -1), (-1, -1), 'CENTER'),  # Center-align the total score text horizontally\n",
    "    ('VALIGN', (-1, -1), (-1, -1), 'MIDDLE'),  # Vertically align the total score\n",
    "])\n",
    "\n",
    "table.setStyle(style)\n",
    "\n",
    "elements = [table]\n",
    "document.build(elements)\n",
    "\n",
    "print(f\"PDF generated successfully: {pdf_filename}\")"
   ]
  },
  {
   "cell_type": "code",
   "execution_count": null,
   "id": "009ecb91-e092-4ba0-9b77-3505897e6052",
   "metadata": {},
   "outputs": [],
   "source": []
  }
 ],
 "metadata": {
  "kernelspec": {
   "display_name": "Python 3 (ipykernel)",
   "language": "python",
   "name": "python3"
  },
  "language_info": {
   "codemirror_mode": {
    "name": "ipython",
    "version": 3
   },
   "file_extension": ".py",
   "mimetype": "text/x-python",
   "name": "python",
   "nbconvert_exporter": "python",
   "pygments_lexer": "ipython3",
   "version": "3.11.5"
  }
 },
 "nbformat": 4,
 "nbformat_minor": 5
}
